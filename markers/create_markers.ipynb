{
 "cells": [
  {
   "cell_type": "markdown",
   "metadata": {},
   "source": [
    "## Make some codes\n",
    "How to create your own markers"
   ]
  },
  {
   "cell_type": "code",
   "execution_count": null,
   "metadata": {},
   "outputs": [],
   "source": [
    "%pylab\n",
    "%matplotlib inline\n",
    "import os\n",
    "import matplotlib.image as mpimg\n",
    "from matplotlib.patches import Rectangle\n",
    "from matplotlib.backends.backend_pdf import PdfPages\n",
    "\n",
    "import sys\n",
    "sys.path += ['..']\n",
    "import qrdar"
   ]
  },
  {
   "cell_type": "raw",
   "metadata": {},
   "source": [
    "This uses the AruCo 16h3 dictionary stored within the module"
   ]
  },
  {
   "cell_type": "code",
   "execution_count": null,
   "metadata": {},
   "outputs": [],
   "source": [
    "code_stack = qrdar.common.load_codes('aruco_mip_16h3')"
   ]
  },
  {
   "cell_type": "raw",
   "metadata": {},
   "source": [
    "some text you would like printed on the back"
   ]
  },
  {
   "cell_type": "code",
   "execution_count": null,
   "metadata": {
    "collapsed": true
   },
   "outputs": [],
   "source": [
    "mytext = 'If found please contact p.wilkes@ucl.ac.uk'"
   ]
  },
  {
   "cell_type": "code",
   "execution_count": null,
   "metadata": {
    "scrolled": false
   },
   "outputs": [],
   "source": [
    "# pp = PdfPages('aruco_mip_16h3_000-249.pdf')\n",
    "\n",
    "for i in np.arange(250):\n",
    "\n",
    "    # set up front image (same dimensions as A4)\n",
    "    fig, ax = plt.subplots(figsize=(8.27, 11.69), facecolor='white')\n",
    "    plt.style.use('classic')\n",
    "    X = 5.3\n",
    "    \n",
    "    ax.scatter(0, 0)\n",
    "    ax.scatter(10, 0)\n",
    "    ax.scatter(10, 10)\n",
    "    # plot code\n",
    "    ax.imshow(code_stack[:, :, i], \n",
    "              extent=[0.15, 8.12, 2.5, 2.5 + 8.02],\n",
    "              cmap=plt.cm.Greys_r,\n",
    "              interpolation='None')\n",
    "    \n",
    "    for circle in [(.55, .5), (8.27 - .55, 2), (.55, 11.69 - .7), (8.27 - 2.55, 11.69 - .7)]:\n",
    "        CIRCLE = plt.Circle(circle, radius=0.39, facecolor='white', edgecolor='k')\n",
    "        ax.add_artist(CIRCLE)\n",
    "\n",
    "    ax.text((8.27 / 2.), .25, '{:03d}'.format(i), fontsize=160, ha='center', weight='heavy', color='k', clip_on=True)\n",
    "    \n",
    "    for x in [(0, 0), (0, 11.69), (8.27, 11.69), (8.27, 0)]:\n",
    "        plt.scatter(*x, marker='+', color='k')\n",
    "        \n",
    "    ax.set_xlim(0, 8.27)\n",
    "    ax.set_ylim(0, 11.69)\n",
    "    ax.set_xticks([])\n",
    "    ax.set_yticks([])\n",
    "    plt.axis('off')\n",
    "    \n",
    "    # save front image and print to pdf\n",
    "    plt.savefig(pp, format='pdf', papertype='A4', bbox_inches='tight', pad_inches=0)\n",
    "    plt.clf() # then clear axis\n",
    "\n",
    "    # prepare back image\n",
    "    fig, ax = plt.subplots(figsize=(8.27, 11.69), facecolor='white')\n",
    "\n",
    "    # add code in reverse on back of target\n",
    "    ax.imshow(np.fliplr(code_stack[:, :, i]), \n",
    "              extent=[0.15, 8.12, 2.5, 2.5 + 8.02],\n",
    "              cmap=plt.cm.Greys_r,\n",
    "              interpolation='None')\n",
    "\n",
    "    # blackout number\n",
    "    rec = Rectangle((1.24, .2), 5.79, 2.2, fc='k', ec='none')\n",
    "    ax.add_patch(rec)\n",
    "    \n",
    "    ax.set_xlim(0, 8.27)\n",
    "    ax.set_ylim(0, 11.69)\n",
    "    ax.set_xticks([])\n",
    "    ax.set_yticks([])\n",
    "    \n",
    "    # add some text\n",
    "    txt =  mytext + '\\ncode is $\\copyright$ AruCo'\n",
    "    ax.text((8.27 / 2.), 10.8, txt, fontsize=10, ha='center', weight='heavy', color='k')\n",
    "    \n",
    "    for x in [(0, 0), (0, 11.69), (8.27, 11.69), (8.27, 0)]:\n",
    "        plt.scatter(*x, marker='+', color='k')\n",
    "\n",
    "    plt.axis('off')\n",
    "    \n",
    "    plt.savefig(pp, format='pdf', papertype='A4', bbox_inches='tight', pad_inches=0)\n",
    "    plt.clf()\n",
    "    \n",
    "#     if i == 0: break\n",
    "    \n",
    "pp.close()"
   ]
  }
 ],
 "metadata": {
  "kernelspec": {
   "display_name": "Python 2",
   "language": "python",
   "name": "python2"
  }
 },
 "nbformat": 4,
 "nbformat_minor": 1
}
