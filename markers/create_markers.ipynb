{
 "cells": [
  {
   "cell_type": "markdown",
   "metadata": {},
   "source": [
    "## Make some codes\n",
    "How to create your own markers"
   ]
  },
  {
   "cell_type": "code",
   "execution_count": 1,
   "metadata": {},
   "outputs": [
    {
     "name": "stdout",
     "output_type": "stream",
     "text": [
      "Using matplotlib backend: Qt4Agg\n",
      "Populating the interactive namespace from numpy and matplotlib\n"
     ]
    }
   ],
   "source": [
    "%pylab\n",
    "%matplotlib inline\n",
    "import os\n",
    "import matplotlib.image as mpimg\n",
    "from matplotlib.patches import Rectangle\n",
    "from matplotlib.backends.backend_pdf import PdfPages\n",
    "\n",
    "import sys\n",
    "sys.path += ['..']\n",
    "import qrdar"
   ]
  },
  {
   "cell_type": "code",
   "execution_count": 2,
   "metadata": {},
   "outputs": [],
   "source": [
    "# This uses the AruCo 16h3 dictionary stored within the module...\n",
    "code_stack = qrdar.common.load_codes('aruco_mip_16h3')\n",
    "# ...but to make your own you would need an m x m x n matrix"
   ]
  },
  {
   "cell_type": "code",
   "execution_count": 3,
   "metadata": {},
   "outputs": [],
   "source": [
    "# some text you would like printed on the back\n",
    "mytext = 'any questions please contact p.wilkes@ucl.ac.uk'"
   ]
  },
  {
   "cell_type": "code",
   "execution_count": null,
   "metadata": {
    "scrolled": false
   },
   "outputs": [],
   "source": [
    "pp = PdfPages('aruco_tags_16h3_000-249.pdf')\n",
    "fig, ax = plt.subplots(figsize=(8.27, 11.69), facecolor='white')\n",
    "plt.style.use('classic')\n",
    "X = 5.3\n",
    "\n",
    "for i in np.arange(250):\n",
    "    \n",
    "    # plot code\n",
    "    ax.imshow(code_stack[:, :, i], \n",
    "              extent=[0.15, 8.12, 2.5, 2.5 + 8.02],\n",
    "              cmap=plt.cm.Greys_r,\n",
    "              interpolation='none')\n",
    "    \n",
    "    # plot marker stickers (20 mm - radius in inches)\n",
    "    for circle in [(.55, .5), (8.27 - .55, 2), (.55, 11.69 - .7), (8.27 - 2.55, 11.69 - .7)]:\n",
    "        CIRCLE = plt.Circle(circle, radius=0.39, facecolor='white', edgecolor='k')\n",
    "        ax.add_artist(CIRCLE)\n",
    "\n",
    "    # add marker number\n",
    "    ax.text((8.27 / 2.), .25, '{:03d}'.format(i), fontsize=160, ha='center', weight='heavy', color='k', clip_on=True)\n",
    "    \n",
    "    # add corner crosses for print alignment\n",
    "    for x in [(0, 0), (0, 11.69), (8.27, 11.69), (8.27, 0)]:\n",
    "        plt.scatter(*x, marker='+', color='k')\n",
    "    \n",
    "    # tidy things up\n",
    "    ax.set_xlim(0, 8.27)\n",
    "    ax.set_ylim(0, 11.69)\n",
    "    ax.set_xticks([])\n",
    "    ax.set_yticks([])\n",
    "    plt.axis('off')\n",
    "    \n",
    "    # print front to pdf\n",
    "    plt.savefig(pp, format='pdf', papertype='A4', bbox_inches='tight', pad_inches=0, dpi=300)\n",
    "    plt.cla() # then clear axis\n",
    "\n",
    "    # add code in reverse on back of target\n",
    "    ax.imshow(np.fliplr(code_stack[:, :, i]), \n",
    "              extent=[0.15, 8.12, 2.5, 2.5 + 8.02],\n",
    "              cmap=plt.cm.Greys_r,\n",
    "              interpolation='none')\n",
    "\n",
    "    # blackout number\n",
    "    rec = Rectangle((1.24, .2), 5.79, 2.2, fc='k', ec='none')\n",
    "    ax.add_patch(rec)\n",
    "    \n",
    "    # add some text\n",
    "    txt =  mytext + '\\ncode $\\copyright$ AruCo'\n",
    "    ax.text((8.27 / 2.), 10.8, txt, fontsize=10, ha='center', weight='heavy', color='k')\n",
    "    \n",
    "    # add corner crosses for print alignment\n",
    "    for x in [(0, 0), (0, 11.69), (8.27, 11.69), (8.27, 0)]:\n",
    "        plt.scatter(*x, marker='+', color='k')\n",
    "\n",
    "    # tidy things up\n",
    "    ax.set_xlim(0, 8.27)\n",
    "    ax.set_ylim(0, 11.69)\n",
    "    ax.set_xticks([])\n",
    "    ax.set_yticks([])\n",
    "    plt.axis('off')\n",
    "    \n",
    "    # print back to pdf\n",
    "    plt.savefig(pp, format='pdf', papertype='A4', bbox_inches='tight', pad_inches=0)\n",
    "    plt.cla()\n",
    "    \n",
    "#     if i == 0: break\n",
    "    \n",
    "pp.close()"
   ]
  }
 ],
 "metadata": {
  "kernelspec": {
   "display_name": "Python 2",
   "language": "python",
   "name": "python2"
  },
  "language_info": {
   "codemirror_mode": {
    "name": "ipython",
    "version": 2
   },
   "file_extension": ".py",
   "mimetype": "text/x-python",
   "name": "python",
   "nbconvert_exporter": "python",
   "pygments_lexer": "ipython2",
   "version": "2.7.14"
  }
 },
 "nbformat": 4,
 "nbformat_minor": 1
}
