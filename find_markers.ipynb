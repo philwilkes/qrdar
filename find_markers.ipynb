{
 "cells": [
  {
   "cell_type": "markdown",
   "metadata": {},
   "source": [
    "### Where are my trees?\n",
    "\n",
    "This notebook runs through the method to identify fiducial markers (akin to QR codes) in laser scans. Currently only the AruCo `aruco_mip_16h3` dictionary of codes is compatible."
   ]
  },
  {
   "cell_type": "code",
   "execution_count": null,
   "metadata": {},
   "outputs": [],
   "source": [
    "%pylab\n",
    "%matplotlib inline\n",
    "import os\n",
    "import glob\n",
    "import pandas as pd\n",
    "\n",
    "import qrdar"
   ]
  },
  {
   "cell_type": "markdown",
   "metadata": {},
   "source": [
    "Make a directory called <code><span style=\"background-color:lightgrey\">fiducial markers</span></code> navigate to it "
   ]
  },
  {
   "cell_type": "code",
   "execution_count": null,
   "metadata": {},
   "outputs": [],
   "source": [
    "%%bash\n",
    "cd /some/directory/somewhere\n",
    "mkdir fiducial_markers\n",
    "mkdir clusters"
   ]
  },
  {
   "cell_type": "code",
   "execution_count": null,
   "metadata": {
    "collapsed": true
   },
   "outputs": [],
   "source": [
    "os.chdir('/data/eos/TLS/australia/AEP-33/2018-08-24.001.riproject/extraction2delete/fiducial_markers/')"
   ]
  },
  {
   "cell_type": "markdown",
   "metadata": {},
   "source": [
    "### Load point cloud\n",
    "Load point cloud and filter leaving only bright points e.g. for the <i>REIGL VZ-400</i>, points where reflectance > 0 db should do. There is a function to load points from a <code><span style=\"background-color:lightgrey\">.pcd</span></code> (the output of <code><span style=\"background-color:lightgrey\">mon2pcd</span></code> if using a RIEGL workflow) but any pd.DataFrame with <code><span style=\"background-color:lightgrey\">['x', 'y', 'z']</span></code> columns will do."
   ]
  },
  {
   "cell_type": "code",
   "execution_count": null,
   "metadata": {
    "collapsed": true
   },
   "outputs": [],
   "source": [
    "pc = qrdar.read('../aep33_mon.pcd')"
   ]
  },
  {
   "cell_type": "markdown",
   "metadata": {},
   "source": [
    "## If area is large \n",
    "For example if you have a large forest plot, where the data is tiled"
   ]
  },
  {
   "cell_type": "markdown",
   "metadata": {},
   "source": [
    "### Search for potential stickers\n",
    "This step groks pc looking for clusters of points that could be stickers (or something else e.g. co-registration targets, reflective strips on bags etc.). These are then filtered in using <code><span style=\"background-color:lightgrey\">filterBySize</span></code>"
   ]
  },
  {
   "cell_type": "code",
   "execution_count": null,
   "metadata": {},
   "outputs": [],
   "source": [
    "pc = qrdar.search4stickers.find(pc)\n",
    "\n",
    "# as this step can take a while it is a good idea to save the output to read in at a later date.\n",
    "qrdar.io.write_ply('potential_points.ply', pc)"
   ]
  },
  {
   "cell_type": "code",
   "execution_count": null,
   "metadata": {},
   "outputs": [],
   "source": [
    "# read in previously identified points\n",
    "pc = qrdar.io.read_ply('potential_points.ply')"
   ]
  },
  {
   "cell_type": "code",
   "execution_count": null,
   "metadata": {},
   "outputs": [],
   "source": [
    "pc = qrdar.search4stickers.filterBySize(pc, verbose=True)"
   ]
  },
  {
   "cell_type": "markdown",
   "metadata": {
    "collapsed": true
   },
   "source": [
    "### Group stickers into potential tree codes\n",
    "Stickers are grouped into potential tree codes \n",
    "\n",
    "This step is not neccessary as it happens in `readMarkersFromTiles` but can be used for visualosation e.g. in CloudCompare."
   ]
  },
  {
   "cell_type": "code",
   "execution_count": null,
   "metadata": {},
   "outputs": [],
   "source": [
    "pc = qrdar.readMarker.locateTargets(pc, verbose=True)\n",
    "qrdar.io.write_ply('target_centres.ply', pc.groupby('target_labels_').mean())"
   ]
  },
  {
   "cell_type": "markdown",
   "metadata": {},
   "source": [
    "### Read codes\n",
    "If codes are spread over a large dataset it is common for that dataset to be tiled therefore you would need a tile index and to run using <code><span style=\"background-color:lightgrey\">readMarkersFromTiles()</span></code> method.\n",
    "\n",
    "This requires a tile index including the tile x and y centre as well as tile number. "
   ]
  },
  {
   "cell_type": "code",
   "execution_count": null,
   "metadata": {
    "scrolled": false
   },
   "outputs": [],
   "source": [
    "tile_index = pd.read_csv('../tile_index.dat', names=['tile', 'x', 'y'], sep=' ')\n",
    "marker_df = qrdar.readMarker.readMarkersFromTiles(pc, tile_index, '../rxp2pcd_i/aep33_{}.pcd', verbose=True)"
   ]
  },
  {
   "cell_type": "markdown",
   "metadata": {},
   "source": [
    "### Extract features\n",
    "Once codes have been identified the features they are attachted to can be extracted. "
   ]
  },
  {
   "cell_type": "code",
   "execution_count": null,
   "metadata": {},
   "outputs": [],
   "source": [
    "qrdar.extractFeatures(marker_df, tile_index, \n",
    "                      '../downsample_p/aep33_{}.downsample.pcd', \n",
    "                      '../clusters/', verbose=True)"
   ]
  }
 ],
 "metadata": {
  "kernelspec": {
   "display_name": "Python 2",
   "language": "python",
   "name": "python2"
  },
  "language_info": {
   "codemirror_mode": {
    "name": "ipython",
    "version": 2
   },
   "file_extension": ".py",
   "mimetype": "text/x-python",
   "name": "python",
   "nbconvert_exporter": "python",
   "pygments_lexer": "ipython2",
   "version": "2.7.14"
  }
 },
 "nbformat": 4,
 "nbformat_minor": 2
}
